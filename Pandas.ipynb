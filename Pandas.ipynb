{
 "cells": [
  {
   "attachments": {},
   "cell_type": "markdown",
   "id": "7455a367-980a-4a4d-8194-6ac5a665017b",
   "metadata": {},
   "source": [
    "<div style=\"text-align: left;\">\n",
    "    <img src=\"https://upload.wikimedia.org/wikipedia/commons/e/ed/Pandas_logo.svg\" alt=\"Image description\" width=\"50%\"/>\n",
    "</div>"
   ]
  },
  {
   "cell_type": "code",
   "execution_count": null,
   "id": "9e4f9c49-1375-409d-bae4-049589e8389c",
   "metadata": {},
   "outputs": [],
   "source": []
  },
  {
   "cell_type": "markdown",
   "id": "edeb4d8e-d209-4313-8d58-6667cab8e17b",
   "metadata": {},
   "source": [
    "<p style=\"font-family:Helvica; font-size:26px; \">\n",
    "Introduction to Pandas\n",
    "</p>"
   ]
  },
  {
   "cell_type": "markdown",
   "id": "2bce3558-c14f-43fb-aa8e-c26a2d4edaa8",
   "metadata": {},
   "source": [
    "<p style=\"font-family:Helvica; font-size:20px; \">\n",
    "Pandas is one of the most popular Python libraries for data manipulation and analysis. It provides powerful, flexible, and easy-to-use data structures for working with structured data. The two main data structures in Pandas are \"Series and DataFrame.\n",
    "</p>"
   ]
  },
  {
   "cell_type": "code",
   "execution_count": null,
   "id": "224b4ce8-90cd-4327-9c81-5acb7332fd3a",
   "metadata": {},
   "outputs": [],
   "source": []
  }
 ],
 "metadata": {
  "kernelspec": {
   "display_name": "Python 3 (ipykernel)",
   "language": "python",
   "name": "python3"
  },
  "language_info": {
   "codemirror_mode": {
    "name": "ipython",
    "version": 3
   },
   "file_extension": ".py",
   "mimetype": "text/x-python",
   "name": "python",
   "nbconvert_exporter": "python",
   "pygments_lexer": "ipython3",
   "version": "3.9.20"
  }
 },
 "nbformat": 4,
 "nbformat_minor": 5
}
